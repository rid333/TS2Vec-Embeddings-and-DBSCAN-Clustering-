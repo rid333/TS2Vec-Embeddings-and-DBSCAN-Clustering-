{
 "cells": [
  {
   "cell_type": "code",
   "execution_count": 21,
   "id": "9f484e20-5bd2-4f52-849a-bf0878774c89",
   "metadata": {},
   "outputs": [],
   "source": [
    "import numpy as np\n",
    "from sklearn.metrics import mean_squared_error, mean_absolute_error\n",
    "import pandas as pd"
   ]
  },
  {
   "cell_type": "code",
   "execution_count": 22,
   "id": "e6cdbe17-9e85-4afb-9a1d-673a87359ada",
   "metadata": {},
   "outputs": [],
   "source": [
    "def calc_metrics(df, actual_col, pred_col):\n",
    "    y_true = df[actual_col].to_numpy()\n",
    "    y_pred = df[pred_col].to_numpy()\n",
    "\n",
    "    rmse = np.sqrt(np.mean((y_pred - y_true) ** 2))\n",
    "    mae = np.mean(np.abs(y_pred - y_true))\n",
    "\n",
    "    return {\"RMSE\": rmse, \"MAE\": mae}"
   ]
  },
  {
   "cell_type": "code",
   "execution_count": 23,
   "id": "85256b1c-f73e-4542-89bd-d346ea9efe7a",
   "metadata": {},
   "outputs": [],
   "source": [
    "df = pd.read_csv(\"./kalibrasi.csv\")"
   ]
  },
  {
   "cell_type": "code",
   "execution_count": 24,
   "id": "3741db4f-24af-47dd-8123-4f440280a04f",
   "metadata": {},
   "outputs": [
    {
     "data": {
      "text/plain": [
       "{'RMSE': np.float64(1.9148542155126762), 'MAE': np.float64(1.4)}"
      ]
     },
     "execution_count": 24,
     "metadata": {},
     "output_type": "execute_result"
    }
   ],
   "source": [
    "metrics = calc_metrics(df, 'Pulse Fingertip', 'Sensor ECG AD8232')\n",
    "metrics"
   ]
  },
  {
   "cell_type": "code",
   "execution_count": null,
   "id": "c251653b-721d-4f4c-8b4b-2852766b12ec",
   "metadata": {},
   "outputs": [],
   "source": []
  }
 ],
 "metadata": {
  "kernelspec": {
   "display_name": "Python 3 (ipykernel)",
   "language": "python",
   "name": "python3"
  },
  "language_info": {
   "codemirror_mode": {
    "name": "ipython",
    "version": 3
   },
   "file_extension": ".py",
   "mimetype": "text/x-python",
   "name": "python",
   "nbconvert_exporter": "python",
   "pygments_lexer": "ipython3",
   "version": "3.13.1"
  }
 },
 "nbformat": 4,
 "nbformat_minor": 5
}
